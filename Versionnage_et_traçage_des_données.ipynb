{
 "cells": [
  {
   "cell_type": "markdown",
   "metadata": {
    "id": "Vg1CTCPkX9kL"
   },
   "source": [
    "# Versionnage et traçage des données"
   ]
  },
  {
   "cell_type": "markdown",
   "metadata": {
    "id": "qE2If-s9dCJ9"
   },
   "source": [
    "Nous allons étudier dans ces travaux pratiques comment versionner ses données et conserver des informations d'origine à l'aide de l'outil DVC.\n",
    "\n",
    "Cet outil découple le versionnage des données et leur stockage."
   ]
  },
  {
   "cell_type": "markdown",
   "metadata": {},
   "source": [
    "## Notes sur l'environnement CodeSpace"
   ]
  },
  {
   "cell_type": "markdown",
   "metadata": {},
   "source": [
    "Vous pouvez exécuter des commandes dans le terminal directement ou dans les cellules de code de ce notebook. Dans ce cas, elles doivent préfixées d'un `!`, elles seraient sinon interprétées comme du Python.\n",
    "\n",
    "Par ailleurs, si vous avez besoin de copier-coller quelque chose dans le terminal, il faut utiliser ctrl-maj-v et non pas ctrl-v."
   ]
  },
  {
   "cell_type": "markdown",
   "metadata": {
    "id": "08efg2guY_Pq"
   },
   "source": [
    "## Création du dépôt DagsHub"
   ]
  },
  {
   "cell_type": "markdown",
   "metadata": {
    "id": "b2V6Q31DA89q"
   },
   "source": [
    "Créez un compte sur [GitHub](https://github.com) et [DagsHub](https://dagshub.com/) si nécessaire, puis&nbsp;:\n",
    "\n",
    "Créez ensuite un dépôt vierge sur DagsHub. Une fois le dépôt créé, récupérez votre clef d'accès secrète en cliquant sur «&nbsp;*Get started with Data*&nbsp;» et en la copiant-collant depuis la section «&nbsp;*Connection credentials*&nbsp;».\n",
    "\n",
    "Remplissez les variables `owner`, `repo` & `token` avec respectivement votre nom d'utilisateur DagsHub, votre nom de dépôt git et votre clef d'accès secrète."
   ]
  },
  {
   "cell_type": "code",
   "execution_count": null,
   "metadata": {
    "id": "3MqlhwlJA8Dq"
   },
   "outputs": [],
   "source": [
    "owner = \"\"\n",
    "repo = \"\"\n",
    "token = \"\""
   ]
  },
  {
   "cell_type": "markdown",
   "metadata": {
    "id": "ITaTCX6CCJzS"
   },
   "source": [
    "Exécutez maintenant la cellule ci-dessous pour créer une branche distante pointant vers votre dépôt DagsHub (ce qui nous permettra de publier les changements produits pendant ces travaux pratiques pour simuler une tâche réelle)."
   ]
  },
  {
   "cell_type": "code",
   "execution_count": 3,
   "metadata": {
    "id": "J6w8PaooZB0e"
   },
   "outputs": [],
   "source": [
    "!git remote add dagshub https://{token}@dagshub.com/{owner}/{repo}.git"
   ]
  },
  {
   "cell_type": "markdown",
   "metadata": {
    "id": "M-QLZ-ZAZDCA"
   },
   "source": [
    "## Initialisation du dépôt DVC"
   ]
  },
  {
   "cell_type": "markdown",
   "metadata": {},
   "source": [
    "Dans le terminal, lancez une commande pour initialiser un dépôt DVC puis publiez les changements sur votre dépôt DagsHub."
   ]
  },
  {
   "cell_type": "markdown",
   "metadata": {
    "id": "GKQYQ1EBZNh-"
   },
   "source": [
    "### Solution"
   ]
  },
  {
   "cell_type": "code",
   "execution_count": null,
   "metadata": {
    "id": "ba7OrGzlZOik"
   },
   "outputs": [],
   "source": [
    "!dvc init"
   ]
  },
  {
   "cell_type": "code",
   "execution_count": 5,
   "metadata": {
    "id": "hPHDOncGDeeW"
   },
   "outputs": [
    {
     "name": "stdout",
     "output_type": "stream",
     "text": [
      "[main eef9b59] Initialisation de DVC\n",
      " 3 files changed, 6 insertions(+)\n",
      " create mode 100644 .dvc/.gitignore\n",
      " create mode 100644 .dvc/config\n",
      " create mode 100644 .dvcignore\n"
     ]
    }
   ],
   "source": [
    "!git commit -m \"Initialisation de DVC\""
   ]
  },
  {
   "cell_type": "code",
   "execution_count": 6,
   "metadata": {
    "id": "g0n3jPaNDg64"
   },
   "outputs": [
    {
     "name": "stdout",
     "output_type": "stream",
     "text": [
      "Enumerating objects: 23, done.\n",
      "Counting objects: 100% (23/23), done.\n",
      "Delta compression using up to 2 threads\n",
      "Compressing objects: 100% (20/20), done.\n",
      "Writing objects: 100% (23/23), 92.85 KiB | 30.95 MiB/s, done.\n",
      "Total 23 (delta 6), reused 8 (delta 0), pack-reused 0 (from 0)\n",
      "To https://dagshub.com/m09/dvc-playground.git\n",
      " * [new branch]      main -> main\n",
      "branch 'main' set up to track 'dagshub/main'.\n"
     ]
    }
   ],
   "source": [
    "!git push -u dagshub main"
   ]
  },
  {
   "cell_type": "markdown",
   "metadata": {
    "id": "G_GYBzhwX_eX"
   },
   "source": [
    "## Récupération d'une première version des données"
   ]
  },
  {
   "cell_type": "markdown",
   "metadata": {
    "id": "UHgL_k5kZ8ij"
   },
   "source": [
    "Il y a plusieurs manières d'importer une source de données dans DVC. L'une d'entre elles est d'utiliser deux commandes&nbsp;: [`dvc get`](https://dvc.org/doc/command-reference/get) d'abord, qui récupère des données depuis un dépôt git/DVC, puis [`dvc add`](https://dvc.org/doc/command-reference/add) qui ajoute les données aux données gérées par DVC.\n",
    "\n",
    "Après avoir consulté leur aide, utilisez ces deux commandes pour importer le fichier `wikipedia-movie-plots/wiki_movie_plots_deduped.csv` du dépôt git `https://github.com/shuuchuu/datasets/` sous le nom `data.csv`."
   ]
  },
  {
   "cell_type": "markdown",
   "metadata": {
    "id": "nrnFxEF1aqrz"
   },
   "source": [
    "DVC utilise un dossier de cache qui contient (la plupart du temps) les données utilisées par le projet. Que constatez-vous en observant ce dossier&nbsp;?\n",
    "\n",
    "N'hésitez pas à observer les fichiers d'extension `.dvc`."
   ]
  },
  {
   "cell_type": "markdown",
   "metadata": {
    "id": "NTKmn4BMaZiv"
   },
   "source": [
    "### Solution"
   ]
  },
  {
   "cell_type": "code",
   "execution_count": null,
   "metadata": {
    "id": "UALHRpnoX0wJ"
   },
   "outputs": [],
   "source": [
    "!dvc get https://github.com/m09/dataset-wikipedia-movie-plots wiki_movie_plots_deduped.csv -o data.csv"
   ]
  },
  {
   "cell_type": "code",
   "execution_count": null,
   "metadata": {
    "id": "tYuKjG_Dhx17"
   },
   "outputs": [],
   "source": [
    "!dvc add data.csv"
   ]
  },
  {
   "cell_type": "markdown",
   "metadata": {
    "id": "EJJmt0vBa5Mu"
   },
   "source": [
    "## Ajout du fichier à un commit git"
   ]
  },
  {
   "cell_type": "markdown",
   "metadata": {
    "id": "VnI_UNLoa_KZ"
   },
   "source": [
    "Commitez maintenant ce fichier en suivant les recommandations de DVC données en sortie de la commande `dvc add`, puis publiez ces changements sur DagsHub."
   ]
  },
  {
   "cell_type": "markdown",
   "metadata": {
    "id": "nh1UrulmbRl4"
   },
   "source": [
    "### Solution"
   ]
  },
  {
   "cell_type": "code",
   "execution_count": null,
   "metadata": {
    "id": "YZFqN77lbTKm"
   },
   "outputs": [],
   "source": [
    "!git add .gitignore data.csv.dvc"
   ]
  },
  {
   "cell_type": "code",
   "execution_count": null,
   "metadata": {
    "id": "lKVrXRcTbY-D"
   },
   "outputs": [],
   "source": [
    "!git commit -m \"Ajout d'une première version des données\""
   ]
  },
  {
   "cell_type": "code",
   "execution_count": null,
   "metadata": {
    "id": "ta3gHtVZEGC5"
   },
   "outputs": [],
   "source": [
    "!git tag \"v1\""
   ]
  },
  {
   "cell_type": "code",
   "execution_count": null,
   "metadata": {
    "id": "UkX-F_BeEJht"
   },
   "outputs": [],
   "source": [
    "!git push origin main v1"
   ]
  },
  {
   "cell_type": "markdown",
   "metadata": {
    "id": "qi17BSL9t0me"
   },
   "source": [
    "## Configuration d'un serveur de stockage"
   ]
  },
  {
   "cell_type": "markdown",
   "metadata": {
    "id": "Ajv6YjOQt3qY"
   },
   "source": [
    "DVC peut stocker les données dans divers types de serveurs. DagsHub met à disposition un espace de stockage qui s'utilise comme un bucket s3 (solution de stockage du cloud amazon).\n",
    "\n",
    "Configurez ce serveur en suivant les instructions disponibles dans l'onglet « *Data* » du bouton vert « *Remote* » de votre dépôt DagsHub puis publiez-y vos données."
   ]
  },
  {
   "cell_type": "markdown",
   "metadata": {
    "id": "RAbA-LjPuMwo"
   },
   "source": [
    "### Solution"
   ]
  },
  {
   "cell_type": "code",
   "execution_count": null,
   "metadata": {
    "id": "kExMRm7MqYds"
   },
   "outputs": [],
   "source": [
    "!dvc remote add origin s3://dvc\n",
    "!dvc remote modify origin endpointurl https://dagshub.com/{owner}/{repo}.s3\n",
    "!dvc remote modify origin --local access_key_id {token}\n",
    "!dvc remote modify origin --local secret_access_key {token}"
   ]
  },
  {
   "cell_type": "code",
   "execution_count": null,
   "metadata": {
    "id": "f_Iwi3h7qYyV"
   },
   "outputs": [],
   "source": [
    "!dvc push -r origin"
   ]
  },
  {
   "cell_type": "markdown",
   "metadata": {
    "id": "McPc4aDSedLY"
   },
   "source": [
    "## Modification des données"
   ]
  },
  {
   "cell_type": "markdown",
   "metadata": {
    "id": "tFzQqwnZf-MM"
   },
   "source": [
    "Exécutez les cellules suivantes pour modifier le fichier de données&nbsp;:"
   ]
  },
  {
   "cell_type": "code",
   "execution_count": null,
   "metadata": {
    "id": "-GgkcTxiecVI"
   },
   "outputs": [],
   "source": [
    "!sort -r < data.csv > a && dvc remove data.csv.dvc && mv a data.csv"
   ]
  },
  {
   "cell_type": "markdown",
   "metadata": {
    "id": "6t6cfNRNgD8B"
   },
   "source": [
    "Utilisez maintenant `dvc add` & `git add` pour enregistrer ce changement."
   ]
  },
  {
   "cell_type": "markdown",
   "metadata": {
    "id": "66Z-jANXg8Ta"
   },
   "source": [
    "### Solution"
   ]
  },
  {
   "cell_type": "code",
   "execution_count": null,
   "metadata": {
    "id": "1YhBWWzGfyTo"
   },
   "outputs": [],
   "source": [
    "!dvc add data.csv"
   ]
  },
  {
   "cell_type": "code",
   "execution_count": null,
   "metadata": {
    "id": "HmaARXFvgMdo"
   },
   "outputs": [],
   "source": [
    "!git add data.csv.dvc .gitignore"
   ]
  },
  {
   "cell_type": "code",
   "execution_count": null,
   "metadata": {
    "id": "TkR6jp32gQmW"
   },
   "outputs": [],
   "source": [
    "!git commit -m \"Données v2\"\n",
    "!git tag \"v2\""
   ]
  },
  {
   "cell_type": "code",
   "execution_count": null,
   "metadata": {
    "id": "RwpawVAZGKJq"
   },
   "outputs": [],
   "source": [
    "!git push origin main v2"
   ]
  },
  {
   "cell_type": "code",
   "execution_count": null,
   "metadata": {
    "id": "ok4QDZMbqBzU"
   },
   "outputs": [],
   "source": [
    "!dvc push -r origin"
   ]
  },
  {
   "cell_type": "markdown",
   "metadata": {
    "id": "XZREzbBwcDPD"
   },
   "source": [
    "## Retour aux données originales"
   ]
  },
  {
   "cell_type": "markdown",
   "metadata": {
    "id": "Qti0-4-UgYUL"
   },
   "source": [
    "On imagine avoir détecté un problème avec nos nouvelles données&nbsp;: on souhaite revenir à la première version. Utilisez `git checkout` pour revenir à la version antérieure des métadonnées, puis `dvc checkout` pour récupérer le fichier correspondant."
   ]
  },
  {
   "cell_type": "markdown",
   "metadata": {
    "id": "00SZSR8shOhF"
   },
   "source": [
    "Commitez maintenant ce retour à la première version."
   ]
  },
  {
   "cell_type": "markdown",
   "metadata": {
    "id": "XF4zENvyhb9f"
   },
   "source": [
    "### Solution"
   ]
  },
  {
   "cell_type": "code",
   "execution_count": null,
   "metadata": {
    "id": "HdnFdhhXhCRk"
   },
   "outputs": [],
   "source": [
    "!git checkout v1 data.csv.dvc"
   ]
  },
  {
   "cell_type": "code",
   "execution_count": null,
   "metadata": {
    "id": "WLo_YtswhIVn"
   },
   "outputs": [],
   "source": [
    "!dvc checkout data.csv"
   ]
  },
  {
   "cell_type": "code",
   "execution_count": null,
   "metadata": {
    "id": "nNISHs4PhSD_"
   },
   "outputs": [],
   "source": [
    "!git add data.csv.dvc"
   ]
  },
  {
   "cell_type": "code",
   "execution_count": null,
   "metadata": {
    "id": "diqCBl1ThVQr"
   },
   "outputs": [],
   "source": [
    "!git commit -m \"Retour aux données v1\"\n",
    "!git tag v3"
   ]
  },
  {
   "cell_type": "code",
   "execution_count": null,
   "metadata": {
    "id": "Xv9CPgBnGoil"
   },
   "outputs": [],
   "source": [
    "!git push origin main v3"
   ]
  },
  {
   "cell_type": "code",
   "execution_count": null,
   "metadata": {
    "id": "wuNEG680cKKb"
   },
   "outputs": [],
   "source": [
    "!dvc push -r origin"
   ]
  },
  {
   "cell_type": "markdown",
   "metadata": {
    "id": "tnRAyz2KrjeR"
   },
   "source": [
    "## Traitement des données"
   ]
  },
  {
   "cell_type": "markdown",
   "metadata": {
    "id": "Ozmp64UKrmrz"
   },
   "source": [
    "Exécutez la cellule suivante qui contient un script Python qui prend deux arguments, et qui écrit au chemin donné par le deuxième argument le contenu du fichier au chemin donné par le premier argument, en passant le contenu en majuscule.\n",
    "\n",
    "Cette cellule va écrire ce script au chemin `upper.py`"
   ]
  },
  {
   "cell_type": "code",
   "execution_count": 1,
   "metadata": {
    "id": "aiz_iLLHrlHK"
   },
   "outputs": [
    {
     "name": "stdout",
     "output_type": "stream",
     "text": [
      "Writing upper.py\n"
     ]
    }
   ],
   "source": [
    "%%writefile upper.py\n",
    "from pathlib import Path\n",
    "from sys import argv\n",
    "\n",
    "Path(argv[2]).write_text(\n",
    "    Path(argv[1]).read_text(encoding=\"utf8\").upper(),\n",
    "    encoding=\"utf8\")"
   ]
  },
  {
   "cell_type": "markdown",
   "metadata": {
    "id": "pt7XTAR_s2Q3"
   },
   "source": [
    "Ajoutez une étape de traitement avec [`dvc stage add`](https://dvc.org/doc/command-reference/stage/add) qui prend en entrée le fichier `data.csv` et produit le fichier `data-upper.csv` à partir de ce script."
   ]
  },
  {
   "cell_type": "markdown",
   "metadata": {
    "id": "INjiLN-utXEp"
   },
   "source": [
    "Exécutez maintenant cette étape de traitement avec [`dvc repro`](https://dvc.org/doc/command-reference/repro) puis sauvegardez les données dans le serveur de stockage et les métadonnées dans git."
   ]
  },
  {
   "cell_type": "markdown",
   "metadata": {
    "id": "mfV0_haAtC0X"
   },
   "source": [
    "### Solution"
   ]
  },
  {
   "cell_type": "code",
   "execution_count": null,
   "metadata": {
    "id": "wSZ42IGTsOOT"
   },
   "outputs": [],
   "source": [
    "!dvc stage add -n transform-uppercase -d data.csv -o data-upper.csv python upper.py data.csv data-upper.csv"
   ]
  },
  {
   "cell_type": "code",
   "execution_count": null,
   "metadata": {
    "id": "F3QYKFxisb2Y"
   },
   "outputs": [],
   "source": [
    "!dvc repro"
   ]
  },
  {
   "cell_type": "code",
   "execution_count": null,
   "metadata": {
    "id": "yVbo2ZLWtHyi"
   },
   "outputs": [],
   "source": [
    "!git add dvc.yaml .gitignore dvc.lock"
   ]
  },
  {
   "cell_type": "code",
   "execution_count": null,
   "metadata": {
    "id": "_vxDoOgRG1Zb"
   },
   "outputs": [],
   "source": [
    "!git commit -m \"Pipeline pour passer un fichier en majuscule\""
   ]
  },
  {
   "cell_type": "code",
   "execution_count": null,
   "metadata": {
    "id": "6G9--vWpG9U9"
   },
   "outputs": [],
   "source": [
    "!git push origin main"
   ]
  },
  {
   "cell_type": "code",
   "execution_count": null,
   "metadata": {
    "id": "1OEEoFyHtRoA"
   },
   "outputs": [],
   "source": [
    "!dvc push -r origin"
   ]
  }
 ],
 "metadata": {
  "colab": {
   "collapsed_sections": [
    "GKQYQ1EBZNh-",
    "NTKmn4BMaZiv",
    "nh1UrulmbRl4",
    "RAbA-LjPuMwo",
    "66Z-jANXg8Ta",
    "XF4zENvyhb9f",
    "mfV0_haAtC0X"
   ],
   "private_outputs": true,
   "provenance": []
  },
  "kernelspec": {
   "display_name": ".venv",
   "language": "python",
   "name": "python3"
  },
  "language_info": {
   "codemirror_mode": {
    "name": "ipython",
    "version": 3
   },
   "file_extension": ".py",
   "mimetype": "text/x-python",
   "name": "python",
   "nbconvert_exporter": "python",
   "pygments_lexer": "ipython3",
   "version": "3.12.7"
  }
 },
 "nbformat": 4,
 "nbformat_minor": 0
}
